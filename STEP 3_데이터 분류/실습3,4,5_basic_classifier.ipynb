{
 "cells": [
  {
   "cell_type": "code",
   "execution_count": null,
   "metadata": {},
   "outputs": [],
   "source": [
    "!conda config --set ssl_verify false\n",
    "!conda install python-graphviz scikit-learn -y"
   ]
  },
  {
   "cell_type": "code",
   "execution_count": null,
   "metadata": {},
   "outputs": [],
   "source": [
    "import pandas as pd\n",
    "from sklearn.datasets import load_wine\n",
    "from sklearn.model_selection import train_test_split\n",
    "from sklearn.tree import DecisionTreeClassifier\n",
    "from sklearn.metrics import accuracy_score, classification_report\n",
    "\n",
    "import matplotlib.pyplot as plt\n",
    "import seaborn as sns\n",
    "# 경로를 설정하지 않으면 동작을 안할수 있음\n",
    "from sklearn.tree import export_graphviz\n",
    "import graphviz"
   ]
  },
  {
   "cell_type": "markdown",
   "metadata": {},
   "source": [
    "## 사외PC (Google Colab) 으로 실행 시 Data load"
   ]
  },
  {
   "cell_type": "code",
   "execution_count": null,
   "metadata": {},
   "outputs": [],
   "source": [
    "#데이터를 불러오기\n",
    "\n",
    "wine = load_wine()\n",
    "\n",
    "# 데이터프레임 생성\n",
    "df = pd.DataFrame(data=wine.data, columns= wine.feature_names)\n",
    "df['target'] = wine.target"
   ]
  },
  {
   "cell_type": "markdown",
   "metadata": {},
   "source": [
    "## 사내 PC에서 코드 실행 시 Data load"
   ]
  },
  {
   "cell_type": "code",
   "execution_count": null,
   "metadata": {},
   "outputs": [],
   "source": [
    "#데이터를 불러오기\n",
    "\n",
    "# 사내PC에서 이용 시 sklearn.datasets의 load_wine를 통해 load가 되지 않아 파일로 제공합니다.\n",
    "wine = pd.read_csv('wine.csv')\n",
    "df = wine.rename(columns={'Wine': 'target'})\n",
    "# 'target' 컬럼의 값을 {1: 0, 2: 1, 3: 2}로 변경\n",
    "df['target'] = df['target'].replace({1: 0, 2: 1, 3: 2})"
   ]
  },
  {
   "cell_type": "markdown",
   "metadata": {},
   "source": [
    "## 공통 코드 부분"
   ]
  },
  {
   "cell_type": "code",
   "execution_count": null,
   "metadata": {},
   "outputs": [],
   "source": [
    "# EDA (Exploratory Data Analysis) 탐색적 데이터 분석\n",
    "print(df.shape)\n",
    "print(df.describe())\n",
    "# 총 3가지 와인의 품종이 있음 0, 1, 2\n",
    "print(df['target'].value_counts())"
   ]
  },
  {
   "cell_type": "code",
   "execution_count": null,
   "metadata": {},
   "outputs": [],
   "source": [
    "# 특성 간 싱관관계 히트맵\n",
    "plt.figure(figsize=(10,8))\n",
    "sns.heatmap(df.corr(), annot = True, cmap = 'coolwarm', linewidths = 0.5 )\n",
    "plt.title(\"Feature Correlation Heatmap\")\n",
    "plt.show()\n"
   ]
  },
  {
   "cell_type": "code",
   "execution_count": null,
   "metadata": {},
   "outputs": [],
   "source": [
    "#모형 학습\n",
    "# 특성 (Feature)와 타겟(target)의 데이터를 분리\n",
    "X = df.drop('target', axis=1)\n",
    "y = df['target']"
   ]
  },
  {
   "cell_type": "code",
   "execution_count": null,
   "metadata": {},
   "outputs": [],
   "source": [
    "# 학습데이터와 테스트 데이터로 분리 (80% 학습, 20% 테스트)\n",
    "X_train, X_test, y_train, y_test = train_test_split(X, y, test_size= 0.2, random_state= 42)"
   ]
  },
  {
   "cell_type": "code",
   "execution_count": null,
   "metadata": {},
   "outputs": [],
   "source": [
    "# Decision Tree 모델 생성 및 학습\n",
    "clf = DecisionTreeClassifier(criterion= 'entropy')\n",
    "clf.fit(X_train, y_train)"
   ]
  },
  {
   "cell_type": "code",
   "execution_count": null,
   "metadata": {},
   "outputs": [],
   "source": [
    "#테스트를 위한 품종 분류\n",
    "y_pred = clf.predict(X_test)"
   ]
  },
  {
   "cell_type": "code",
   "execution_count": null,
   "metadata": {},
   "outputs": [],
   "source": [
    "# 정확도 계산 및 분류 리포트를 출력\n",
    "accuracy = accuracy_score(y_test, y_pred)\n",
    "print(\"\\n Accuracy:\", accuracy)\n",
    "print(\"\\n Classification Report\", classification_report(y_test, y_pred))"
   ]
  },
  {
   "cell_type": "code",
   "execution_count": null,
   "metadata": {},
   "outputs": [],
   "source": [
    "#의사결정나무를 시각화\n",
    "dot_data = export_graphviz(clf, out_file = None)\n",
    "#Graphviz 객체 생성\n",
    "graph = graphviz.Source(dot_data)\n",
    "#저장 및 표시\n",
    "graph.render(\"basic_classifier\", view=True)\n"
   ]
  },
  {
   "cell_type": "code",
   "execution_count": null,
   "metadata": {},
   "outputs": [],
   "source": []
  }
 ],
 "metadata": {
  "kernelspec": {
   "display_name": "Python 3 (ipykernel)",
   "language": "python",
   "name": "python3"
  },
  "language_info": {
   "codemirror_mode": {
    "name": "ipython",
    "version": 3
   },
   "file_extension": ".py",
   "mimetype": "text/x-python",
   "name": "python",
   "nbconvert_exporter": "python",
   "pygments_lexer": "ipython3",
   "version": "3.11.7"
  }
 },
 "nbformat": 4,
 "nbformat_minor": 4
}

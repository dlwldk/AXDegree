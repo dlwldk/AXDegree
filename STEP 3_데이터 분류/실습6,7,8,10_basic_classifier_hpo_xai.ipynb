{
 "cells": [
  {
   "cell_type": "code",
   "execution_count": null,
   "metadata": {},
   "outputs": [],
   "source": [
    "# 실습에 필요한 패키지 설치 \n",
    "!conda config --set ssl_verify false\n",
    "!conda install python-graphviz scikit-learn -y"
   ]
  },
  {
   "cell_type": "code",
   "execution_count": null,
   "metadata": {},
   "outputs": [],
   "source": [
    "import pandas as pd\n",
    "from sklearn.datasets import load_wine\n",
    "from sklearn.model_selection import train_test_split\n",
    "from sklearn.tree import DecisionTreeClassifier\n",
    "from sklearn.metrics import accuracy_score, classification_report\n",
    "import matplotlib.pyplot as plt\n",
    "\n",
    "\n",
    "# 경로를 설정하지 않으면 동작을 안할수 있음\n",
    "from sklearn.tree import export_graphviz\n",
    "import graphviz\n",
    "\n",
    "# HPO를 위한 설정\n",
    "from sklearn.model_selection import train_test_split, GridSearchCV\n",
    "\n",
    "# XAI를 위한 설정\n",
    "from sklearn.inspection import PartialDependenceDisplay"
   ]
  },
  {
   "cell_type": "markdown",
   "metadata": {},
   "source": [
    "## 사외PC (Google Colab) 으로 실행 시 Data load"
   ]
  },
  {
   "cell_type": "code",
   "execution_count": null,
   "metadata": {},
   "outputs": [],
   "source": [
    "#데이터를 불러오기\n",
    "wine = load_wine()\n",
    "\n",
    "# 데이터프레임 생성\n",
    "df = pd.DataFrame(data=wine.data, columns= wine.feature_names)\n",
    "df['target'] = wine.target"
   ]
  },
  {
   "cell_type": "markdown",
   "metadata": {},
   "source": [
    "## 사내 PC에서 코드 실행 시 Data load"
   ]
  },
  {
   "cell_type": "code",
   "execution_count": null,
   "metadata": {},
   "outputs": [],
   "source": [
    "#데이터를 불러오기\n",
    "# 사내PC에서 이용 시 sklearn.datasets의 load_wine를 통해 load가 되지 않아 파일로 제공합니다.\n",
    "df = pd.read_csv('wine.csv')"
   ]
  },
  {
   "cell_type": "markdown",
   "metadata": {},
   "source": [
    "## 공통 코드 부분"
   ]
  },
  {
   "cell_type": "code",
   "execution_count": null,
   "metadata": {},
   "outputs": [],
   "source": [
    "#모형 학습\n",
    "# 특성 (Feature)와 타겟(target)의 데이터를 분리\n",
    "\n",
    "X = df.drop('target', axis=1)\n",
    "y = df['target']"
   ]
  },
  {
   "cell_type": "code",
   "execution_count": null,
   "metadata": {},
   "outputs": [],
   "source": [
    "# 학습데이터와 테스트 데이터로 분리 (80% 학습, 20% 테스트)\n",
    "X_train, X_test, y_train, y_test = train_test_split(X, y, test_size= 0.2, random_state= 42)"
   ]
  },
  {
   "cell_type": "code",
   "execution_count": null,
   "metadata": {},
   "outputs": [],
   "source": [
    "# HypyerParameter를 '수기' 변경\n",
    "clf_mannual = DecisionTreeClassifier(criterion='gini',\n",
    "                                     max_depth=1,\n",
    "                                     min_samples_split=5,\n",
    "                                     min_samples_leaf=3,\n",
    "                                     splitter='random',\n",
    "                                     random_state=4\n",
    "                                     )\n",
    "clf_mannual.fit(X_train, y_train)\n",
    "y_pred_mannual = clf_mannual.predict(X_test)\n",
    "accuracy_mannual = accuracy_score(y_test, y_pred_mannual)\n",
    "print(\"accuracy_mannual: \", accuracy_mannual)"
   ]
  },
  {
   "cell_type": "code",
   "execution_count": null,
   "metadata": {},
   "outputs": [],
   "source": [
    "# HyperParameter Tunning\n",
    "# GridSearch를 HyperParameter를 범위를 한정\n",
    "\n",
    "param_grid = {\n",
    "    \"criterion\" : ['gini', 'entropy'],\n",
    "    \"max_depth\" : [2,3,4,5],\n",
    "    \"min_samples_split\": [2, 5, 10],\n",
    "    \"min_samples_leaf\": [1, 2, 4]\n",
    "}"
   ]
  },
  {
   "cell_type": "code",
   "execution_count": null,
   "metadata": {},
   "outputs": [],
   "source": [
    "# HPO 및 Fitting\n",
    "\n",
    "clf_grid = DecisionTreeClassifier( random_state= 42 )\n",
    "# core\n",
    "grid_search = GridSearchCV(clf_grid, param_grid, cv = 5)\n",
    "# HyperParameter를 찾고, 이걸 가지고 fitting이 모두 수행\n",
    "grid_search.fit(X_train, y_train)\n",
    "\n",
    "print(\"Best Hyper-parameter\", grid_search.best_params_)\n",
    "print(\"Best Score\", grid_search.best_score_)\n"
   ]
  },
  {
   "cell_type": "code",
   "execution_count": null,
   "metadata": {},
   "outputs": [],
   "source": [
    "# HPO만들어진 모형의 정확도 계산 \n",
    "best_model = grid_search.best_estimator_\n",
    "\n",
    "y_pred_grid = best_model.predict(X_test)\n",
    "accuracy_grid = accuracy_score(y_test, y_pred_grid)\n",
    "print('Accuracy Grid :', accuracy_grid)"
   ]
  },
  {
   "cell_type": "code",
   "execution_count": null,
   "metadata": {},
   "outputs": [],
   "source": [
    "# Feature Importance를 계산\n",
    "importances = best_model.feature_importances_"
   ]
  },
  {
   "cell_type": "code",
   "execution_count": null,
   "metadata": {},
   "outputs": [],
   "source": [
    "# Best model의 Feature Importance를  시각화\n",
    "plt.figure(figsize = (20,6))\n",
    "# 막대 그래프 생성\n",
    "plt.bar(range(len(importances)), importances, width=0.3)\n",
    "plt.xlabel('Feature')\n",
    "plt.ylabel('importances')\n",
    "plt.title('Feature Importance')\n",
    "plt.xticks(range(len(importances)), X.columns, rotation = 45)\n",
    "plt.show()"
   ]
  },
  {
   "cell_type": "code",
   "execution_count": null,
   "metadata": {},
   "outputs": [],
   "source": [
    "#Partial Dependence Plot (PDP)\n",
    "# 시각화할 특성을 선택\n",
    "feature = ['flavanoids', 'color_intensity', 'proline']\n",
    "fig, ax = plt.subplots(figsize= (20,6))\n",
    "display = PartialDependenceDisplay.from_estimator(best_model, X_train, feature, target=0, ax=ax)"
   ]
  },
  {
   "cell_type": "code",
   "execution_count": null,
   "metadata": {},
   "outputs": [],
   "source": [
    "X_train"
   ]
  },
  {
   "cell_type": "code",
   "execution_count": null,
   "metadata": {},
   "outputs": [],
   "source": [
    "feature = ['flavanoids', 'color_intensity', 'proline']\n",
    "fig, ax = plt.subplots(figsize= (20,6))\n",
    "display = PartialDependenceDisplay.from_estimator(best_model, X_train, feature, target=1, ax=ax)"
   ]
  },
  {
   "cell_type": "code",
   "execution_count": null,
   "metadata": {},
   "outputs": [],
   "source": [
    "feature = ['flavanoids', 'color_intensity', 'proline']\n",
    "fig, ax = plt.subplots(figsize= (20,6))\n",
    "display = PartialDependenceDisplay.from_estimator(best_model, X_train, feature, target=2, ax=ax)"
   ]
  },
  {
   "cell_type": "code",
   "execution_count": null,
   "metadata": {},
   "outputs": [],
   "source": []
  }
 ],
 "metadata": {
  "kernelspec": {
   "display_name": "Python 3 (ipykernel)",
   "language": "python",
   "name": "python3"
  },
  "language_info": {
   "codemirror_mode": {
    "name": "ipython",
    "version": 3
   },
   "file_extension": ".py",
   "mimetype": "text/x-python",
   "name": "python",
   "nbconvert_exporter": "python",
   "pygments_lexer": "ipython3",
   "version": "3.11.7"
  }
 },
 "nbformat": 4,
 "nbformat_minor": 4
}

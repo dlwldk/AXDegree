{
 "cells": [
  {
   "cell_type": "code",
   "execution_count": null,
   "metadata": {},
   "outputs": [],
   "source": [
    "# 실습에 필요한 패키지 설치\n",
    "!pip --trusted-host pypi.python.org --trusted-host files.pythonhosted.org --trusted-host pypi.org install xgboost ucimlrepo shap"
   ]
  },
  {
   "cell_type": "code",
   "execution_count": null,
   "metadata": {},
   "outputs": [],
   "source": [
    "# 실습에 필요한 패키지 설치(graphviz) -> 미설치시에만 설치 진행 해주세요.\n",
    "!conda config --set ssl_verify false\n",
    "!conda install python-graphviz -y"
   ]
  },
  {
   "cell_type": "code",
   "execution_count": null,
   "metadata": {},
   "outputs": [],
   "source": [
    "import pandas as pd\n",
    "import numpy as np\n",
    "import matplotlib.pyplot as plt\n",
    "import seaborn as sns\n",
    "import pprint\n",
    "\n",
    "# 학습데이터 구성 및 전처리\n",
    "from sklearn.model_selection import train_test_split, GridSearchCV\n",
    "from sklearn.preprocessing import LabelEncoder, StandardScaler\n",
    "from sklearn.metrics import accuracy_score, classification_report\n",
    "\n",
    "# 랜덤포레스트\n",
    "from sklearn.ensemble import RandomForestClassifier\n",
    "\n",
    "# Xgboost\n",
    "from xgboost import XGBClassifier\n",
    "from xgboost import plot_importance, plot_tree\n",
    "\n",
    "# XAI\n",
    "import shap\n",
    "\n",
    "# 학습 데이터원천\n",
    "from ucimlrepo import fetch_ucirepo\n",
    "\n",
    "# 평가지표\n",
    "from sklearn.metrics import accuracy_score, precision_score, recall_score, f1_score, roc_auc_score\n"
   ]
  },
  {
   "cell_type": "markdown",
   "metadata": {},
   "source": [
    "## 사외PC (Google Colab) 으로 실행 시 Data load"
   ]
  },
  {
   "cell_type": "code",
   "execution_count": null,
   "metadata": {},
   "outputs": [],
   "source": [
    "# 데이터 로드\n",
    "wine_quality = fetch_ucirepo(id=186)"
   ]
  },
  {
   "cell_type": "code",
   "execution_count": null,
   "metadata": {},
   "outputs": [],
   "source": [
    "X = wine_quality.data.features\n",
    "y = wine_quality.data.targets\n",
    "\n",
    "# metadata\n",
    "# dataset에 대한 정보\n",
    "print(wine_quality.metadata)\n",
    "# variable에 대한 정보\n",
    "print(wine_quality.variables)"
   ]
  },
  {
   "cell_type": "markdown",
   "metadata": {},
   "source": [
    "## 사내 PC에서 코드 실행 시 Data load"
   ]
  },
  {
   "cell_type": "code",
   "execution_count": null,
   "metadata": {},
   "outputs": [],
   "source": [
    "# 데이터 로드\n",
    "wine_quality = pd.read_csv('wine_quality.csv')"
   ]
  },
  {
   "cell_type": "code",
   "execution_count": null,
   "metadata": {},
   "outputs": [],
   "source": [
    "target = 'quality'\n",
    "X = wine_quality.drop(target, axis=1)\n",
    "y = wine_quality[target]"
   ]
  },
  {
   "cell_type": "markdown",
   "metadata": {},
   "source": [
    "## 공통 코드 부분"
   ]
  },
  {
   "cell_type": "code",
   "execution_count": null,
   "metadata": {},
   "outputs": [],
   "source": [
    "# EDA (탐색적 데이터 분석)\n",
    "\n",
    "print(\"Data shape\", X.shape)\n",
    "print(\"Target Distribution: \\n\", y.value_counts())"
   ]
  },
  {
   "cell_type": "code",
   "execution_count": null,
   "metadata": {},
   "outputs": [],
   "source": [
    "#히트맵 시각화\n",
    "plt.figure(figsize=(12,10))\n",
    "sns.heatmap(df.corr(), annot=True, cmap='coolwarm')\n",
    "plt.title(\"Correlation Heatmap\")\n",
    "plt.show()"
   ]
  },
  {
   "cell_type": "code",
   "execution_count": null,
   "metadata": {},
   "outputs": [],
   "source": [
    "# Feature 분포 시각화\n",
    "plt.figure(figsize=(16, 20))\n",
    "\n",
    "for i, feature in enumerate(X.columns):\n",
    "    plt.subplot(4, 3, i+1)\n",
    "    plt.hist(X[feature], bins = 20, edgecolor='black' )\n",
    "    plt.title(f\"Distribution of {feature}\")\n",
    "    plt.xlabel(feature)\n",
    "    plt.ylabel(\"Frequency\")\n",
    "\n",
    "plt.tight_layout()\n",
    "plt.show()"
   ]
  },
  {
   "cell_type": "code",
   "execution_count": null,
   "metadata": {},
   "outputs": [],
   "source": [
    "# Box-plot\n",
    "plt.figure(figsize=(16, 20))\n",
    "\n",
    "for i, feature in enumerate(X.columns):\n",
    "    plt.subplot(4, 3, i+1)\n",
    "    sns.boxplot(x=X[feature])\n",
    "    plt.title(f\"Box Plot of {feature}\")\n",
    "\n",
    "plt.tight_layout\n",
    "plt.show()"
   ]
  },
  {
   "cell_type": "code",
   "execution_count": null,
   "metadata": {},
   "outputs": [],
   "source": [
    "# 데이터 전처리\n",
    "scaler = StandardScaler()\n",
    "X_scaled = scaler.fit_transform(X)"
   ]
  },
  {
   "cell_type": "code",
   "execution_count": null,
   "metadata": {},
   "outputs": [],
   "source": [
    "# 데이터 분할\n",
    "X_train, X_test, y_train, y_test = train_test_split(X, y, test_size=0.2, random_state=42)"
   ]
  },
  {
   "cell_type": "code",
   "execution_count": null,
   "metadata": {},
   "outputs": [],
   "source": [
    "# 클래스 레이블 확인\n",
    "unique_labels = np.unique(y)\n",
    "print(unique_labels)"
   ]
  },
  {
   "cell_type": "code",
   "execution_count": null,
   "metadata": {},
   "outputs": [],
   "source": [
    "# 레이블링 인코딩\n",
    "\n",
    "label_encoder = LabelEncoder()\n",
    "y_train_encoded = label_encoder.fit_transform(y_train)\n",
    "y_test_encoded = label_encoder.transform(y_test)\n"
   ]
  },
  {
   "cell_type": "code",
   "execution_count": null,
   "metadata": {},
   "outputs": [],
   "source": [
    "# Random Forest 모델 생성 및 학습\n",
    "\n",
    "rf_model = RandomForestClassifier(random_state=42)\n",
    "rf_model.fit(X_train, y_train_encoded)"
   ]
  },
  {
   "cell_type": "code",
   "execution_count": null,
   "metadata": {},
   "outputs": [],
   "source": [
    "# Random Forest 모델 예측\n",
    "\n",
    "rf_y_pred_encoded = rf_model.predict(X_test)\n",
    "rf_y_pred = label_encoder.inverse_transform(rf_y_pred_encoded)\n",
    "\n",
    "print(classification_report(y_test, rf_y_pred,zero_division=0.0))"
   ]
  },
  {
   "cell_type": "code",
   "execution_count": null,
   "metadata": {},
   "outputs": [],
   "source": [
    "# XGboost 모델 생성 및 학습\n",
    "\n",
    "xgb_model = XGBClassifier(random_state=42)\n",
    "xgb_model.fit(X_train, y_train_encoded)"
   ]
  },
  {
   "cell_type": "code",
   "execution_count": null,
   "metadata": {},
   "outputs": [],
   "source": [
    "# 예측 및 레이블 디코딩\n",
    "\n",
    "rf_y_pred_encoded = xgb_model.predict(X_test)\n",
    "y_pred = label_encoder.inverse_transform(rf_y_pred_encoded)"
   ]
  },
  {
   "cell_type": "code",
   "execution_count": null,
   "metadata": {},
   "outputs": [],
   "source": [
    "print(classification_report(y_test, y_pred, zero_division=0.0))"
   ]
  },
  {
   "cell_type": "code",
   "execution_count": null,
   "metadata": {},
   "outputs": [],
   "source": [
    "print(\"XGboost Hyperparemeters:\")\n",
    "# print(xgb_model.get_params())\n",
    "\n",
    "\n",
    "pprint.pprint(xgb_model.get_params())"
   ]
  },
  {
   "cell_type": "code",
   "execution_count": null,
   "metadata": {},
   "outputs": [],
   "source": [
    "# 하이퍼파라미터 범위지정\n",
    "\n",
    "params = {\n",
    "    \"max_depth\" : [3, 5, 7, 9, 15],\n",
    "    \"learning_rate\" : [0.1, 0.01, 0.001],\n",
    "    \"n_estimators\": [50, 100, 200, 300]\n",
    "}"
   ]
  },
  {
   "cell_type": "code",
   "execution_count": null,
   "metadata": {},
   "outputs": [],
   "source": [
    "# 하이퍼파라미터 최적화 \n",
    "grid_search = GridSearchCV(estimator=xgb_model, param_grid=params, cv=4, scoring='accuracy', n_jobs=-1)\n",
    "grid_search.fit(X_train, y_train_encoded)\n",
    "\n",
    "print(\"Best parameters:\", grid_search.best_params_)\n",
    "print(\"Best accuracy:\" , grid_search.best_score_)\n"
   ]
  },
  {
   "cell_type": "code",
   "execution_count": null,
   "metadata": {},
   "outputs": [],
   "source": [
    "## 최적의 하이퍼파라미터의 학습\n",
    "\n",
    "best_model = grid_search.best_estimator_\n",
    "\n",
    "#테스트 데이터에 대한 예측\n",
    "y_pred_encoded = best_model.predict(X_test)\n",
    "y_pred = label_encoder.inverse_transform(y_pred_encoded)\n",
    "\n",
    "print(classification_report(y_test, y_pred, zero_division=0.0))\n"
   ]
  },
  {
   "cell_type": "code",
   "execution_count": null,
   "metadata": {},
   "outputs": [],
   "source": [
    "# XAI\n",
    "# Feature Importance 시각화\n",
    "importances = best_model.feature_importances_\n",
    "\n",
    "plt.figure(figsize= (20,12))\n",
    "#막대그래프 생성\n",
    "plt.bar(range(len(importances)), importances, width= 0.3)\n",
    "plt.xlabel('Feature')\n",
    "plt.ylabel('importance')\n",
    "plt.title('Feature Importance')\n",
    "plt.xticks(range(len(importances)), X.columns, rotation =45)\n",
    "plt.show()"
   ]
  },
  {
   "cell_type": "code",
   "execution_count": null,
   "metadata": {},
   "outputs": [],
   "source": [
    "# XAI\n",
    "# SHAP (Shapley Additive Explanations)\n",
    "explainer = shap.TreeExplainer(xgb_model)\n",
    "shap_values = explainer.shap_values(X_test)\n",
    "\n",
    "shap.summary_plot(shap_values, X_test, plot_type=\"bar\", feature_names=X.columns)"
   ]
  },
  {
   "cell_type": "code",
   "execution_count": null,
   "metadata": {},
   "outputs": [],
   "source": [
    "# XGboost 트리 시각화\n",
    "\n",
    "fig, ax = plt.subplots(figsize = (20, 20))\n",
    "plot_tree(xgb_model, num_trees=150, rankdir='LR', ax=ax)\n",
    "\n",
    "plt.title(\"XGBoost Tree Visualization\")\n",
    "plt.show()"
   ]
  },
  {
   "cell_type": "code",
   "execution_count": null,
   "metadata": {},
   "outputs": [],
   "source": []
  }
 ],
 "metadata": {
  "kernelspec": {
   "display_name": "Python 3 (ipykernel)",
   "language": "python",
   "name": "python3"
  },
  "language_info": {
   "codemirror_mode": {
    "name": "ipython",
    "version": 3
   },
   "file_extension": ".py",
   "mimetype": "text/x-python",
   "name": "python",
   "nbconvert_exporter": "python",
   "pygments_lexer": "ipython3",
   "version": "3.11.7"
  }
 },
 "nbformat": 4,
 "nbformat_minor": 4
}

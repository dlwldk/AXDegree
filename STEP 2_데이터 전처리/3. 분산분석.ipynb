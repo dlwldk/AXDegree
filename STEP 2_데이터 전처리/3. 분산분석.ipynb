{
 "cells": [
  {
   "cell_type": "markdown",
   "metadata": {},
   "source": [
    "# 데이터 분석 실무\n",
    "## 파이썬 라이브러리를 활용해서 통계 기법을 적용한 데이터 분석을 배우는 과정입니다."
   ]
  },
  {
   "cell_type": "markdown",
   "metadata": {},
   "source": [
    "#### 분산분석1 : 광고채널별 효과 검정(일원분산분석)"
   ]
  },
  {
   "cell_type": "markdown",
   "metadata": {},
   "source": [
    "* 지금부터 간단한 예시코드를 중심으로 데이터 분석 실습을 진행하겠습니다."
   ]
  },
  {
   "cell_type": "markdown",
   "metadata": {},
   "source": [
    "* 광고채널별 효과 검정을 위한 가상 데이터셋을 만들어보겠습니다.\n",
    "* A 통신사에서는 페이스북, 인스타그램, 유튜브 세 가지 채널을 활용해서 광고를 하고 있습니다. 각 채널의 효과가 어떻게 되나 궁금합니다. 채널별 광고 클릭 수를 임의로 만들었습니다.\n",
    "\n",
    "    * facebook: 페이스북 클릭 수\n",
    "    * instagram: 인스타그램 클릭 수\n",
    "    * youtube: 유튜브 클릭 수\n",
    "\n",
    "* 채널별 광고 효과를 일원분산분석을 활용해서 가설을 검정해보겠습니다."
   ]
  },
  {
   "cell_type": "markdown",
   "metadata": {},
   "source": [
    "##### 0. 필요 라이브러리 불러오기"
   ]
  },
  {
   "cell_type": "markdown",
   "metadata": {},
   "source": [
    "__사내 PC 실습 안내__ \n",
    "- 본 실습은 외부 라이브러리를 설치하는 내용이 포함되어 있습니다.\n",
    "- 사내 PC에서 외부 라이브러리 설치 시, SSL 인증 오류가 발생할 수 있습니다.\n",
    "- 아래 코드와 같이, pypi 서버 신뢰 옵션을 추가하여 SSL 인증을 생략합니다.\n",
    "- 따라서, 내용은 영상 강의와 다를 수 있습니다.\n",
    "\n",
    "```cmd\n",
    "pip install --trusted-host pypi.python.org --trusted-host files.pythonhosted.org --trusted-host pypi.org -U [설치할 패키지 명]\n",
    "```\n"
   ]
  },
  {
   "cell_type": "code",
   "execution_count": null,
   "metadata": {},
   "outputs": [],
   "source": [
    "# !pip install statsmodels\n",
    "!pip install --trusted-host pypi.python.org --trusted-host files.pythonhosted.org --trusted-host pypi.org -U statsmodels"
   ]
  },
  {
   "cell_type": "code",
   "execution_count": null,
   "metadata": {},
   "outputs": [],
   "source": [
    "import numpy as np\n",
    "import pandas as pd\n",
    "from statsmodels.formula.api import ols\n",
    "from statsmodels.stats.anova import anova_lm\n",
    "from statsmodels.stats.multicomp import pairwise_tukeyhsd"
   ]
  },
  {
   "cell_type": "markdown",
   "metadata": {},
   "source": [
    "##### 1. 데이터 생성"
   ]
  },
  {
   "cell_type": "code",
   "execution_count": null,
   "metadata": {},
   "outputs": [],
   "source": [
    "# 광고 채널별 클릭 수 데이터 예시\n",
    "facebook = [10, 15, 12, 13, 9]\n",
    "instagram = [8, 11, 9, 10, 12]\n",
    "youtube = [13, 9, 11, 12, 10]"
   ]
  },
  {
   "cell_type": "markdown",
   "metadata": {},
   "source": [
    "##### 2. 가설설정"
   ]
  },
  {
   "cell_type": "code",
   "execution_count": null,
   "metadata": {},
   "outputs": [],
   "source": [
    "# 귀무가설(H0): 그룹 간의 평균은 동일하다.\n",
    "# 대립가설(H1): 적어도 하나의 그룹 간의 평균은 다르다."
   ]
  },
  {
   "cell_type": "markdown",
   "metadata": {},
   "source": [
    "##### 3. 검정통계량 계산"
   ]
  },
  {
   "cell_type": "code",
   "execution_count": null,
   "metadata": {},
   "outputs": [],
   "source": [
    "# 모든 그룹 데이터를 하나의 배열로 합침\n",
    "data = pd.DataFrame({'Clicks': facebook + instagram + youtube, 'Channel': ['Facebook'] * 5 + ['Instagram'] * 5 + ['YouTube'] * 5})\n",
    "data"
   ]
  },
  {
   "cell_type": "code",
   "execution_count": null,
   "metadata": {},
   "outputs": [],
   "source": [
    "# 일원분산분석 수행\n",
    "model = ols('Clicks ~ Channel', data=data).fit()\n",
    "anova_table = anova_lm(model, typ=1)"
   ]
  },
  {
   "cell_type": "markdown",
   "metadata": {},
   "source": [
    "##### 4. 결과 출력"
   ]
  },
  {
   "cell_type": "code",
   "execution_count": null,
   "metadata": {},
   "outputs": [],
   "source": [
    "print(\"일원분산분석 결과:\")\n",
    "anova_table"
   ]
  },
  {
   "cell_type": "markdown",
   "metadata": {},
   "source": [
    "##### 5. 사후 검증"
   ]
  },
  {
   "cell_type": "code",
   "execution_count": null,
   "metadata": {},
   "outputs": [],
   "source": [
    "# 사후 검증 (Tukey's HSD)\n",
    "posthoc = pairwise_tukeyhsd(data['Clicks'], data['Channel'])"
   ]
  },
  {
   "cell_type": "code",
   "execution_count": null,
   "metadata": {},
   "outputs": [],
   "source": [
    "print(\"사후 검증 결과:\")\n",
    "print(posthoc)"
   ]
  },
  {
   "cell_type": "markdown",
   "metadata": {},
   "source": [
    "#### 분산분석2 : 광고채널/유형별 효과 검정(이원분산분석)"
   ]
  },
  {
   "cell_type": "markdown",
   "metadata": {},
   "source": [
    "* 지금부터 간단한 예시코드를 중심으로 데이터 분석 실습을 진행하겠습니다."
   ]
  },
  {
   "cell_type": "markdown",
   "metadata": {},
   "source": [
    "* 광고채널별 효과 검정을 위한 가상 데이터셋을 만들어보겠습니다.\n",
    "* A 통신사에서는 페이스북, 인스타그램, 유튜브 세 가지 채널과 이미지와 비디오라는 두 가지 유형을 활용해서 광고를 하고 있습니다. 각 채널과 유형의 효과가 어떻게 되나 궁금합니다. 채널/유형별 광고 클릭 수를 임의로 만들었습니다.\n",
    "\n",
    "    * Channel: 채널\n",
    "    * AdType: 광고 유형\n",
    "    * Clicks: 클릭 수\n",
    "\n",
    "* 채널/유형별 광고 효과를 일원분산분석을 활용해서 가설을 검정해보겠습니다."
   ]
  },
  {
   "cell_type": "markdown",
   "metadata": {},
   "source": [
    "##### 0. 필요 라이브러리 불러오기"
   ]
  },
  {
   "cell_type": "code",
   "execution_count": null,
   "metadata": {},
   "outputs": [],
   "source": [
    "import pandas as pd\n",
    "import statsmodels.api as sm\n",
    "from statsmodels.formula.api import ols\n",
    "from statsmodels.stats.multicomp import pairwise_tukeyhsd\n"
   ]
  },
  {
   "cell_type": "markdown",
   "metadata": {},
   "source": [
    "##### 1. 데이터 생성"
   ]
  },
  {
   "cell_type": "code",
   "execution_count": null,
   "metadata": {},
   "outputs": [],
   "source": [
    "# 광고 클릭 수 데이터 생성\n",
    "data = {'Channel': ['Facebook', 'Instagram', 'YouTube', 'Facebook', 'Instagram', 'YouTube', 'Facebook', 'Instagram', 'YouTube'],\n",
    "        'AdType': ['Image', 'Image', 'Video', 'Image', 'Video', 'Video', 'Image', 'Image', 'Video'],\n",
    "        'Clicks': [10, 15, 21, 13, 9, 22, 8, 11, 25]}\n",
    "\n",
    "df = pd.DataFrame(data)"
   ]
  },
  {
   "cell_type": "markdown",
   "metadata": {},
   "source": [
    "##### 2. 가설설정"
   ]
  },
  {
   "cell_type": "code",
   "execution_count": null,
   "metadata": {},
   "outputs": [],
   "source": [
    "# 광고 채널에 따른 클릭 수의 차이에 대한 가설:\n",
    "# 귀무가설(H0): 광고 채널에 따른 클릭 수의 평균은 모두 동일하다.\n",
    "# 대립가설(H1): 광고 채널에 따른 클릭 수의 평균은 적어도 하나가 다르다.\n",
    "\n",
    "# 광고 유형에 따른 클릭 수의 차이에 대한 가설:\n",
    "# 귀무가설(H0): 광고 유형에 따른 클릭 수의 평균은 모두 동일하다.\n",
    "# 대립가설(H1): 광고 유형에 따른 클릭 수의 평균은 적어도 하나가 다르다.\n",
    "\n",
    "# 광고 채널과 광고 유형의 상호작용 효과에 대한 가설:\n",
    "# 귀무가설(H0): 광고 채널과 광고 유형 간의 상호작용 효과는 존재하지 않는다.\n",
    "# 대립가설(H1): 광고 채널과 광고 유형 간의 상호작용 효과는 존재한다."
   ]
  },
  {
   "cell_type": "markdown",
   "metadata": {},
   "source": [
    "##### 3. 검정통계량 계산"
   ]
  },
  {
   "cell_type": "code",
   "execution_count": null,
   "metadata": {},
   "outputs": [],
   "source": [
    "# 이원분산분석 모델 설정\n",
    "model = ols('Clicks ~ Channel + AdType + Channel:AdType', data=df).fit()"
   ]
  },
  {
   "cell_type": "code",
   "execution_count": null,
   "metadata": {},
   "outputs": [],
   "source": [
    "# 이원분산분석 수행\n",
    "anova_table = sm.stats.anova_lm(model)"
   ]
  },
  {
   "cell_type": "markdown",
   "metadata": {},
   "source": [
    "##### 4. 결과 출력"
   ]
  },
  {
   "cell_type": "code",
   "execution_count": null,
   "metadata": {},
   "outputs": [],
   "source": [
    "print(\"이원분산분석 결과:\")\n",
    "anova_table"
   ]
  },
  {
   "cell_type": "markdown",
   "metadata": {},
   "source": [
    "##### 5. 사후 검증"
   ]
  },
  {
   "cell_type": "code",
   "execution_count": null,
   "metadata": {},
   "outputs": [],
   "source": [
    "df['combi']=df['Channel'] + \" / \" + df['AdType']"
   ]
  },
  {
   "cell_type": "code",
   "execution_count": null,
   "metadata": {},
   "outputs": [],
   "source": [
    "# 사후 검증 (Tukey's HSD)\n",
    "posthoc = pairwise_tukeyhsd(df['Clicks'], df['combi'])\n"
   ]
  },
  {
   "cell_type": "code",
   "execution_count": null,
   "metadata": {},
   "outputs": [],
   "source": [
    "print(\"사후 검증 결과:\")\n",
    "print(posthoc)"
   ]
  }
 ],
 "metadata": {
  "kernelspec": {
   "display_name": "Python 3 (ipykernel)",
   "language": "python",
   "name": "python3"
  },
  "language_info": {
   "codemirror_mode": {
    "name": "ipython",
    "version": 3
   },
   "file_extension": ".py",
   "mimetype": "text/x-python",
   "name": "python",
   "nbconvert_exporter": "python",
   "pygments_lexer": "ipython3",
   "version": "3.11.7"
  }
 },
 "nbformat": 4,
 "nbformat_minor": 4
}

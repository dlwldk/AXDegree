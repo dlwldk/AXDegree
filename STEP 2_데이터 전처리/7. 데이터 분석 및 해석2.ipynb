{
 "cells": [
  {
   "cell_type": "markdown",
   "metadata": {},
   "source": [
    "# 데이터 분석 실무\n",
    "## 파이썬 라이브러리를 활용해서 통계 기법을 적용한 데이터 분석을 배우는 과정입니다."
   ]
  },
  {
   "cell_type": "markdown",
   "metadata": {},
   "source": [
    "#### 이번 시간은 공공자전거 수요 데이터를 활용해서 분석을 해보는 시간입니다.\n",
    "* 먼저, 데이터를 불러오고 살펴보겠습니다.(서울특별시 공공자전거 대여이력 정보_2209.csv, encoding 'cp949')\n",
    "* 서울시 공공자전거 대여이력 정보"
   ]
  },
  {
   "cell_type": "markdown",
   "metadata": {},
   "source": [
    "__[실습 데이터 안내]__\n",
    "* 실습 파일의 용량(822MB)이 크기 때문에 다운로드 링크를 공유 드립니다.\n",
    "* 아래 링크에서, `파일내려받기` 섹션을 찾아, `__전체 파일 보기__`를 눌러\n",
    "* `서울특별시 공공자전거 대여이력 정보_2209.csv` 파일을 찾아 다운받아 주세요.\n",
    "* https://data.seoul.go.kr/dataList/OA-15182/F/1/datasetView.do#\n",
    "\n",
    "__[주의사항]__\n",
    "* 다운 받은 실습파일은 반드시 해당 노트북과 동일한 경로에 저장 해 주세요.\n",
    "* 해당 실습파일이 암호화 안되도록 관리 해 주세요. 암호화 될 경우 불러올 수 없습니다."
   ]
  },
  {
   "cell_type": "code",
   "execution_count": null,
   "metadata": {},
   "outputs": [],
   "source": [
    "# 필요 라이브러리 import\n",
    "import pandas as pd"
   ]
  },
  {
   "cell_type": "code",
   "execution_count": null,
   "metadata": {},
   "outputs": [],
   "source": [
    "# 데이터 불러오기 (데이터를 로딩하는데 시간이 걸릴 수 있습니다.)\n",
    "df_bike = pd.read_csv('서울특별시 공공자전거 대여이력 정보_2209.csv', encoding='cp949')\n",
    "df_bike"
   ]
  },
  {
   "cell_type": "code",
   "execution_count": null,
   "metadata": {},
   "outputs": [],
   "source": [
    "# 데이터 전처리\n",
    "\n",
    "## 결측치 제거\n",
    "df_bike = df_bike.dropna()\n",
    "\n",
    "## 성별 변환\n",
    "df_bike['성별'] = df_bike['성별'].replace({'m': 'M', 'f': 'F'})\n",
    "\n",
    "## \\N 제거\n",
    "df_bike = df_bike[df_bike['성별'] != \"\\\\N\"]\n",
    "\n",
    "## 이용거리 0 제거\n",
    "df_bike = df_bike[df_bike['이용거리(M)'] != 0.00]\n",
    "\n",
    "## 생년 \\N 제거\n",
    "df_bike = df_bike[df_bike['생년'] != \"\\\\N\"]\n",
    "\n",
    "## 생년 2022년 초과 제거\n",
    "df_bike['생년'] = df_bike['생년'].astype('int')\n",
    "df_bike = df_bike[df_bike['생년'] <= 2022]\n",
    "\n",
    "## 생년 0 제거\n",
    "df_bike = df_bike[df_bike['생년'] != 0]\n",
    "\n",
    "df_bike"
   ]
  },
  {
   "cell_type": "markdown",
   "metadata": {},
   "source": [
    "#### 두 집단 간 차이 분석 : t-test"
   ]
  },
  {
   "cell_type": "markdown",
   "metadata": {},
   "source": [
    "##### 가설설정\n",
    "* 가설 1: 성별이 대여이용시간에 영향을 미치는지 검증합니다.\n",
    "* 가설 2: 이용자종류가 대여이용시간에 영향을 미치는지 검증합니다.\n",
    "* 가설 3: 성별이 이용거리에 영향을 미치는지 검증합니다."
   ]
  },
  {
   "cell_type": "code",
   "execution_count": null,
   "metadata": {},
   "outputs": [],
   "source": [
    "# 필요 라이브러리 import\n",
    "import pandas as pd\n",
    "from scipy import stats"
   ]
  },
  {
   "cell_type": "markdown",
   "metadata": {},
   "source": [
    "* 가설 1 검정"
   ]
  },
  {
   "cell_type": "code",
   "execution_count": null,
   "metadata": {},
   "outputs": [],
   "source": [
    "# 가설 1: 성별에 따른 대여이용시간 차이 검정\n",
    "## 데이터 생성\n",
    "subset1 = df_bike[['성별', '이용시간(분)']].dropna()\n",
    "\n",
    "group1 = subset1[subset1['성별'] == 'M']['이용시간(분)']\n",
    "group2 = subset1[subset1['성별'] == 'F']['이용시간(분)']"
   ]
  },
  {
   "cell_type": "code",
   "execution_count": null,
   "metadata": {},
   "outputs": [],
   "source": [
    "## 검정통계량 계산\n",
    "t_statistic1, p_value1 = stats.ttest_ind(group1, group2)\n",
    "\n",
    "print(\"Hypothesis 1: 성별에 따른 대여이용시간 차이\")\n",
    "print(\"t-statistic =\", t_statistic1)\n",
    "print(\"p-value =\", p_value1)"
   ]
  },
  {
   "cell_type": "code",
   "execution_count": null,
   "metadata": {},
   "outputs": [],
   "source": [
    "## 결과 도출\n",
    "if p_value1 < 0.05:\n",
    "    print(\"남성과 여성의 이용시간은 통계적으로 유의미한 차이가 있습니다.\")\n",
    "else:\n",
    "    print(\"남성과 여성의 이용시간은 통계적으로 유의미한 차이가 없습니다.\")"
   ]
  },
  {
   "cell_type": "markdown",
   "metadata": {},
   "source": [
    "* 가설 2 검정"
   ]
  },
  {
   "cell_type": "code",
   "execution_count": null,
   "metadata": {},
   "outputs": [],
   "source": [
    "# 가설 2: 이용자종류에 따른 대여이용시간 차이 검정\n",
    "## 데이터 생성\n",
    "subset2 = df_bike[['이용자종류', '이용시간(분)']].dropna()\n",
    "\n",
    "group3 = subset2[subset2['이용자종류'] == '내국인']['이용시간(분)']\n",
    "group4 = subset2[subset2['이용자종류'] == '비회원']['이용시간(분)']"
   ]
  },
  {
   "cell_type": "code",
   "execution_count": null,
   "metadata": {},
   "outputs": [],
   "source": [
    "subset2['이용자종류'].unique()"
   ]
  },
  {
   "cell_type": "code",
   "execution_count": null,
   "metadata": {},
   "outputs": [],
   "source": [
    "## 검정통계량 계산\n",
    "t_statistic2, p_value2 = stats.ttest_ind(group3, group4)\n",
    "\n",
    "print(\"\\nHypothesis 2: 이용자종류에 따른 대여이용시간 차이\")\n",
    "print(\"t-statistic =\", t_statistic2)\n",
    "print(\"p-value =\", p_value2)"
   ]
  },
  {
   "cell_type": "code",
   "execution_count": null,
   "metadata": {},
   "outputs": [],
   "source": [
    "## 결과 도출\n",
    "if p_value2 < 0.05:\n",
    "    print(\"이용자종류에 따른 대여이용시간은 통계적으로 유의미한 차이가 있습니다.\")\n",
    "else:\n",
    "    print(\"이용자종류에 따른 대여이용시간은 통계적으로 유의미한 차이가 없습니다.\")"
   ]
  },
  {
   "cell_type": "markdown",
   "metadata": {},
   "source": [
    "* 가설 3 검정"
   ]
  },
  {
   "cell_type": "code",
   "execution_count": null,
   "metadata": {},
   "outputs": [],
   "source": [
    "# 가설 3: 성별에 따른 이동 거리 차이 검정\n",
    "## 데이터 생성\n",
    "subset3 = df_bike[['성별', '이용거리(M)']].dropna()\n",
    "\n",
    "group5 = subset3[subset3['성별'] == 'M']['이용거리(M)']\n",
    "group6 = subset3[subset3['성별'] == 'F']['이용거리(M)']"
   ]
  },
  {
   "cell_type": "code",
   "execution_count": null,
   "metadata": {},
   "outputs": [],
   "source": [
    "## 검정통계량 계산\n",
    "t_statistic3, p_value3 = stats.ttest_ind(group5, group6)\n",
    "\n",
    "print(\"\\nHypothesis 3: 성별에 따른 이동 거리 차이 검정\")\n",
    "print(\"t-statistic =\", t_statistic3)\n",
    "print(\"p-value =\", p_value3)"
   ]
  },
  {
   "cell_type": "code",
   "execution_count": null,
   "metadata": {},
   "outputs": [],
   "source": [
    "## 결과 도출\n",
    "if p_value3 < 0.05:\n",
    "    print(\"성별에 따른 이동 거리는 통계적으로 유의미한 차이가 있습니다.\")\n",
    "else:\n",
    "    print(\"성별에 따른 이동 거리는 통계적으로 유의미한 차이가 없습니다.\")"
   ]
  },
  {
   "cell_type": "markdown",
   "metadata": {},
   "source": [
    "#### 세 집단 이상 차이 분석 : ANOVA"
   ]
  },
  {
   "cell_type": "markdown",
   "metadata": {},
   "source": [
    "##### 가설설정\n",
    "* '생년'의 그룹에 따라 '이용시간'이 유의미하게 다를까요?"
   ]
  },
  {
   "cell_type": "markdown",
   "metadata": {},
   "source": [
    "* 가설 검정"
   ]
  },
  {
   "cell_type": "code",
   "execution_count": null,
   "metadata": {},
   "outputs": [],
   "source": [
    "# 필요 라이브러리 import\n",
    "import pandas as pd\n",
    "import numpy as np\n",
    "from scipy.stats import f_oneway"
   ]
  },
  {
   "cell_type": "code",
   "execution_count": null,
   "metadata": {},
   "outputs": [],
   "source": [
    "## 데이터 생성\n",
    "# 생년 그룹화\n",
    "distances = df_bike['이용거리(M)']\n",
    "birth_years = df_bike['생년']\n",
    "\n",
    "group1 = [distance for distance, year in zip(distances, birth_years) if year <= 1990]\n",
    "group2 = [distance for distance, year in zip(distances, birth_years) if 1990 < year <= 2000]\n",
    "group3 = [distance for distance, year in zip(distances, birth_years) if year > 2000]"
   ]
  },
  {
   "cell_type": "code",
   "execution_count": null,
   "metadata": {},
   "outputs": [],
   "source": [
    "## 검정통계량 계산\n",
    "# 분산분석\n",
    "f_value, p_value = f_oneway(group1, group2, group3)"
   ]
  },
  {
   "cell_type": "code",
   "execution_count": null,
   "metadata": {},
   "outputs": [],
   "source": [
    "## 결과 도출\n",
    "print(\"=== 가설 1: marketType에 따른 userCount 분산분석 결과 ===\")\n",
    "print(\"F-value:\", f_value)\n",
    "print(\"p-value:\", p_value)"
   ]
  },
  {
   "cell_type": "markdown",
   "metadata": {},
   "source": [
    "#### 상관분석"
   ]
  },
  {
   "cell_type": "code",
   "execution_count": null,
   "metadata": {},
   "outputs": [],
   "source": [
    "# 필요 라이브러리 import\n",
    "import pandas as pd\n",
    "from scipy.stats import pearsonr\n",
    "import seaborn as sns\n",
    "import matplotlib.pyplot as plt"
   ]
  },
  {
   "cell_type": "code",
   "execution_count": null,
   "metadata": {},
   "outputs": [],
   "source": [
    "# 데이터 프레임 분리\n",
    "df = df_bike[['이용거리(M)','이용시간(분)']]"
   ]
  },
  {
   "cell_type": "code",
   "execution_count": null,
   "metadata": {},
   "outputs": [],
   "source": [
    "# 상관 분석 수행\n",
    "correlation, p_value = pearsonr(df['이용거리(M)'], df['이용시간(분)'])"
   ]
  },
  {
   "cell_type": "code",
   "execution_count": null,
   "metadata": {},
   "outputs": [],
   "source": [
    "# 결과 출력\n",
    "print(\"Correlation coefficient:\", correlation)\n",
    "print(\"p-value:\", p_value)"
   ]
  },
  {
   "cell_type": "code",
   "execution_count": null,
   "metadata": {},
   "outputs": [],
   "source": [
    "# 상관계수 계산\n",
    "correlation_matrix = df.corr()\n",
    "\n",
    "# 한글 폰트 설정 적용\n",
    "plt.rcParams['font.family'] = 'malgun Gothic'\n",
    "\n",
    "sns.heatmap(correlation_matrix, annot=True, cmap='coolwarm')\n",
    "plt.title('Correlation Heatmap - Duration vs Distance')\n",
    "\n",
    "# 그래프 표시\n",
    "plt.show()"
   ]
  },
  {
   "cell_type": "markdown",
   "metadata": {},
   "source": [
    "#### 회귀분석\n",
    "* 종속변수는 이용시간(분)\n",
    "* 독립변수는 생년,\t성별,\t이용자종류"
   ]
  },
  {
   "cell_type": "code",
   "execution_count": null,
   "metadata": {},
   "outputs": [],
   "source": [
    "import pandas as pd\n",
    "import statsmodels.api as sm\n",
    "\n",
    "# 범주형 변수 변환\n",
    "categorical_cols = ['성별',\t'이용자종류']\n",
    "data_encoded = pd.get_dummies(df_bike[['성별', '이용자종류', '이용시간(분)']], columns=categorical_cols, drop_first=True)\n",
    "\n",
    "# 독립변수/종속변수 설정\n",
    "y = data_encoded['이용시간(분)']\n",
    "X = data_encoded.drop('이용시간(분)', axis=1)\n",
    "\n",
    "# 상수항 추가\n",
    "X = sm.add_constant(X)\n",
    "\n",
    "# 자료형 변경\n",
    "X = X.astype(float)\n",
    "# 회귀식 도출\n",
    "model = sm.OLS(y, X).fit()\n",
    "\n",
    "# 결과 출력\n",
    "print(model.summary())"
   ]
  }
 ],
 "metadata": {
  "kernelspec": {
   "display_name": "Python 3 (ipykernel)",
   "language": "python",
   "name": "python3"
  },
  "language_info": {
   "codemirror_mode": {
    "name": "ipython",
    "version": 3
   },
   "file_extension": ".py",
   "mimetype": "text/x-python",
   "name": "python",
   "nbconvert_exporter": "python",
   "pygments_lexer": "ipython3",
   "version": "3.11.7"
  }
 },
 "nbformat": 4,
 "nbformat_minor": 4
}

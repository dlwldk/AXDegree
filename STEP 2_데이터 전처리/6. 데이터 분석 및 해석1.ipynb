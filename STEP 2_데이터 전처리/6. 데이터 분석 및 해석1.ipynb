{
 "cells": [
  {
   "cell_type": "markdown",
   "metadata": {},
   "source": [
    "# 데이터 분석 실무\n",
    "## 파이썬 라이브러리를 활용해서 통계 기법을 적용한 데이터 분석을 배우는 과정입니다."
   ]
  },
  {
   "cell_type": "markdown",
   "metadata": {},
   "source": [
    "#### 이번 시간은 제주도 관광데이터를 활용해서 분석을 해보는 시간입니다.\n",
    "* 먼저, 데이터를 불러오고 살펴보겠습니다.(jeju_2018.csv, encoding 'cp949')\n",
    "* 내국인 관광객 지역, 업종, 성별, 연령대별 카드 이용 데이터\n",
    "* https://www.jejudatahub.net/data/view/data/597"
   ]
  },
  {
   "cell_type": "code",
   "execution_count": null,
   "metadata": {},
   "outputs": [],
   "source": [
    "# 필요 라이브러리 import\n",
    "import pandas as pd"
   ]
  },
  {
   "cell_type": "code",
   "execution_count": null,
   "metadata": {},
   "outputs": [],
   "source": [
    "# 데이터 불러오기\n",
    "df_jeju = pd.read_csv('jeju_2018.csv', encoding='cp949')\n",
    "df_jeju"
   ]
  },
  {
   "cell_type": "markdown",
   "metadata": {},
   "source": [
    "##### 변수 요약\n",
    "* sido: 시도\n",
    "* sigungu: 시군구\n",
    "* cityGubun: 도심구분\n",
    "* marketType: 업종\n",
    "* userType: 관광객구분\n",
    "* ageGroup: 연령대\n",
    "* gender: 성별\n",
    "* dtYearMonth: 년월\n",
    "* userCount: 고객수\n",
    "* useCount: 사용횟수\n",
    "* useCost: 사용금액"
   ]
  },
  {
   "cell_type": "markdown",
   "metadata": {},
   "source": [
    "#### 두 집단 간 차이 분석 : t-test"
   ]
  },
  {
   "cell_type": "markdown",
   "metadata": {},
   "source": [
    "##### 가설설정\n",
    "* 가설 1: 월별 남성과 여성의 이용 횟수의 차이가 있는지 여부를 검정한다.\n",
    "* 가설 2: 월별 20대와 30대의 이용 비용의 차이가 있는지 여부를 검정한다.\n",
    "* 가설 3: 월별 도심과 읍면 지역의 이용자 수의 차이가 있는지 여부를 검정한다."
   ]
  },
  {
   "cell_type": "code",
   "execution_count": null,
   "metadata": {},
   "outputs": [],
   "source": [
    "# 필요 라이브러리 import\n",
    "import pandas as pd\n",
    "from scipy import stats"
   ]
  },
  {
   "cell_type": "markdown",
   "metadata": {},
   "source": [
    "* 가설 1 검정"
   ]
  },
  {
   "cell_type": "code",
   "execution_count": null,
   "metadata": {},
   "outputs": [],
   "source": [
    "# 가설 1: 남성과 여성의 이용 횟수 비교\n",
    "## 데이터 생성\n",
    "male_data = df_jeju[df_jeju['gender'] == '남'][['useCount','dtYearMonth']].groupby('dtYearMonth').sum()\n",
    "female_data = df_jeju[df_jeju['gender'] == '여'][['useCount','dtYearMonth']].groupby('dtYearMonth').sum()"
   ]
  },
  {
   "cell_type": "code",
   "execution_count": null,
   "metadata": {},
   "outputs": [],
   "source": [
    "## 검정통계량 계산\n",
    "t_statistic, p_value = stats.ttest_ind(male_data, female_data)\n",
    "\n",
    "print(p_value)"
   ]
  },
  {
   "cell_type": "code",
   "execution_count": null,
   "metadata": {},
   "outputs": [],
   "source": [
    "## 결과 도출\n",
    "if p_value < 0.05:\n",
    "    print(\"남성과 여성의 이용 횟수는 통계적으로 유의미한 차이가 있습니다.\")\n",
    "else:\n",
    "    print(\"남성과 여성의 이용 횟수는 통계적으로 유의미한 차이가 없습니다.\")"
   ]
  },
  {
   "cell_type": "markdown",
   "metadata": {},
   "source": [
    "* 가설 2 검정"
   ]
  },
  {
   "cell_type": "code",
   "execution_count": null,
   "metadata": {},
   "outputs": [],
   "source": [
    "# 가설 2: 20대와 30대의 이용 비용 비교\n",
    "## 데이터 생성\n",
    "age_20s_data = df_jeju[df_jeju['ageGroup'] == '20대'][['useCost','dtYearMonth']].groupby('dtYearMonth').sum()\n",
    "age_30s_data = df_jeju[df_jeju['ageGroup'] == '30대'][['useCost','dtYearMonth']].groupby('dtYearMonth').sum()"
   ]
  },
  {
   "cell_type": "code",
   "execution_count": null,
   "metadata": {},
   "outputs": [],
   "source": [
    "## 검정통계량 계산\n",
    "t_statistic, p_value = stats.ttest_ind(age_20s_data, age_30s_data)\n",
    "\n",
    "print(p_value)"
   ]
  },
  {
   "cell_type": "code",
   "execution_count": null,
   "metadata": {},
   "outputs": [],
   "source": [
    "## 결과 도출\n",
    "if p_value < 0.05:\n",
    "    print(\"20대와 30대의 이용 비용은 통계적으로 유의미한 차이가 있습니다.\")\n",
    "else:\n",
    "    print(\"20대와 30대의 이용 비용은 통계적으로 유의미한 차이가 없습니다.\")"
   ]
  },
  {
   "cell_type": "markdown",
   "metadata": {},
   "source": [
    "* 가설 3 검정"
   ]
  },
  {
   "cell_type": "code",
   "execution_count": null,
   "metadata": {},
   "outputs": [],
   "source": [
    "# 가설 3: 도심과 읍면 지역의 이용자 수 비교\n",
    "## 데이터 생성\n",
    "urban_data = df_jeju[df_jeju['cityGubun'] == '도심'][['userCount','dtYearMonth']].groupby('dtYearMonth').sum()\n",
    "rural_data = df_jeju[df_jeju['cityGubun'] == '읍면'][['userCount','dtYearMonth']].groupby('dtYearMonth').sum()"
   ]
  },
  {
   "cell_type": "code",
   "execution_count": null,
   "metadata": {},
   "outputs": [],
   "source": [
    "## 검정통계량 계산\n",
    "t_statistic, p_value = stats.ttest_ind(urban_data, rural_data)\n",
    "\n",
    "print(p_value)"
   ]
  },
  {
   "cell_type": "code",
   "execution_count": null,
   "metadata": {},
   "outputs": [],
   "source": [
    "## 결과 도출\n",
    "if p_value < 0.05:\n",
    "    print(\"도심과 읍면 지역의 이용자 수는 통계적으로 유의미한 차이가 있습니다.\")\n",
    "else:\n",
    "    print(\"도심과 읍면 지역의 이용자 수는 통계적으로 유의미한 차이가 없습니다.\")"
   ]
  },
  {
   "cell_type": "markdown",
   "metadata": {},
   "source": [
    "#### 세 집단 이상 차이 분석 : ANOVA"
   ]
  },
  {
   "cell_type": "markdown",
   "metadata": {},
   "source": [
    "##### 가설설정\n",
    "* 가설 1: 'marketType'에 따라 'userCount'가 유의미하게 다를까요?\n",
    "* 가설 2: 'ageGroup'에 따라 'userCount'가 유의미하게 다를까요?\n",
    "* 가설 3: 'marketType'과 'ageGroup'의 상호작용이 'userCount'에 유의미한 영향을 미치나요?"
   ]
  },
  {
   "cell_type": "markdown",
   "metadata": {},
   "source": [
    "* 가설 1 검정"
   ]
  },
  {
   "cell_type": "code",
   "execution_count": null,
   "metadata": {},
   "outputs": [],
   "source": [
    "# 필요 라이브러리 import\n",
    "import pandas as pd\n",
    "import statsmodels.api as sm\n",
    "from statsmodels.formula.api import ols"
   ]
  },
  {
   "cell_type": "code",
   "execution_count": null,
   "metadata": {},
   "outputs": [],
   "source": [
    "# 가설 1: marketType에 따른 userCount 차이 분산분석\n",
    "## 데이터 생성\n",
    "market_data = df_jeju[['userCount','marketType','dtYearMonth']].groupby(['marketType','dtYearMonth']).sum().reset_index()"
   ]
  },
  {
   "cell_type": "code",
   "execution_count": null,
   "metadata": {},
   "outputs": [],
   "source": [
    "## 검정통계량 계산\n",
    "model_1 = ols('userCount ~ marketType', data=market_data).fit()\n",
    "anova_table_1 = sm.stats.anova_lm(model_1)"
   ]
  },
  {
   "cell_type": "code",
   "execution_count": null,
   "metadata": {},
   "outputs": [],
   "source": [
    "## 결과 도출\n",
    "print(\"=== 가설 1: marketType에 따른 userCount 분산분석 결과 ===\")\n",
    "print(anova_table_1)"
   ]
  },
  {
   "cell_type": "code",
   "execution_count": null,
   "metadata": {},
   "outputs": [],
   "source": [
    "from statsmodels.stats.multicomp import pairwise_tukeyhsd\n",
    "\n",
    "# DataFrame의 'marketType'과 'userCount' 열을 사용하여 사후 검정 수행\n",
    "posthoc = pairwise_tukeyhsd(market_data['userCount'], market_data['marketType'])\n",
    "\n",
    "# 사후 검정 결과 출력\n",
    "print(posthoc)"
   ]
  },
  {
   "cell_type": "markdown",
   "metadata": {},
   "source": [
    "* 가설 2 검정"
   ]
  },
  {
   "cell_type": "code",
   "execution_count": null,
   "metadata": {},
   "outputs": [],
   "source": [
    "# 필요 라이브러리 import\n",
    "import pandas as pd\n",
    "import statsmodels.api as sm\n",
    "from statsmodels.formula.api import ols"
   ]
  },
  {
   "cell_type": "code",
   "execution_count": null,
   "metadata": {},
   "outputs": [],
   "source": [
    "# 가설 1: ageGroup에 따른 userCount 차이 분산분석\n",
    "## 데이터 생성\n",
    "age_data = df_jeju[['userCount','ageGroup','dtYearMonth']].groupby(['ageGroup','dtYearMonth']).sum().reset_index()"
   ]
  },
  {
   "cell_type": "code",
   "execution_count": null,
   "metadata": {},
   "outputs": [],
   "source": [
    "## 검정통계량 계산\n",
    "model_2 = ols('userCount ~ ageGroup', data=age_data).fit()\n",
    "anova_table_2 = sm.stats.anova_lm(model_2)"
   ]
  },
  {
   "cell_type": "code",
   "execution_count": null,
   "metadata": {},
   "outputs": [],
   "source": [
    "## 결과 도출\n",
    "print(\"\\n=== 가설 2: ageGroup에 따른 userCount 분산분석 결과 ===\")\n",
    "print(anova_table_2)"
   ]
  },
  {
   "cell_type": "code",
   "execution_count": null,
   "metadata": {},
   "outputs": [],
   "source": [
    "from statsmodels.stats.multicomp import pairwise_tukeyhsd\n",
    "\n",
    "# DataFrame의 'marketType'과 'userCount' 열을 사용하여 사후 검정 수행\n",
    "posthoc = pairwise_tukeyhsd(age_data['userCount'], age_data['ageGroup'])\n",
    "\n",
    "# 사후 검정 결과 출력\n",
    "print(posthoc)"
   ]
  },
  {
   "cell_type": "markdown",
   "metadata": {},
   "source": [
    "* 가설 3 검정"
   ]
  },
  {
   "cell_type": "code",
   "execution_count": null,
   "metadata": {},
   "outputs": [],
   "source": [
    "# 필요 라이브러리 import\n",
    "import pandas as pd\n",
    "import statsmodels.api as sm\n",
    "from statsmodels.formula.api import ols"
   ]
  },
  {
   "cell_type": "code",
   "execution_count": null,
   "metadata": {},
   "outputs": [],
   "source": [
    "# 가설 1: ageGroup에 따른 userCount 차이 분산분석\n",
    "## 데이터 생성\n",
    "merge_data = df_jeju[['userCount','marketType','ageGroup','dtYearMonth']].groupby(['marketType','ageGroup','dtYearMonth']).sum().reset_index()"
   ]
  },
  {
   "cell_type": "code",
   "execution_count": null,
   "metadata": {},
   "outputs": [],
   "source": [
    "## 검정통계량 계산\n",
    "model_3 = ols('userCount ~ marketType * ageGroup', data=merge_data).fit()\n",
    "anova_table_3 = sm.stats.anova_lm(model_3)"
   ]
  },
  {
   "cell_type": "code",
   "execution_count": null,
   "metadata": {},
   "outputs": [],
   "source": [
    "## 결과 도출\n",
    "print(\"\\n=== 가설 3: marketType과 ageGroup의 상호작용이 userCount에 미치는 영향 분산분석 결과 ===\")\n",
    "print(anova_table_3)"
   ]
  },
  {
   "cell_type": "code",
   "execution_count": null,
   "metadata": {},
   "outputs": [],
   "source": [
    "from statsmodels.stats.multicomp import pairwise_tukeyhsd\n",
    "\n",
    "# 상호작용항 만들기\n",
    "merge_data['combi'] = merge_data['marketType'] + \" / \" + merge_data['ageGroup']\n",
    "\n",
    "# 사후 검정 결과 계산\n",
    "posthoc = pairwise_tukeyhsd(merge_data['userCount'], merge_data['combi'])\n",
    "\n",
    "# 사후 검정 결과 출력\n",
    "pd.set_option('display.max_rows', None)\n",
    "posthoc._results_table"
   ]
  },
  {
   "cell_type": "markdown",
   "metadata": {},
   "source": [
    "#### 상관분석"
   ]
  },
  {
   "cell_type": "code",
   "execution_count": null,
   "metadata": {},
   "outputs": [],
   "source": [
    "# 필요 라이브러리 import\n",
    "import pandas as pd\n",
    "import numpy as np\n",
    "import matplotlib.pyplot as plt\n",
    "import seaborn as sns"
   ]
  },
  {
   "cell_type": "code",
   "execution_count": null,
   "metadata": {},
   "outputs": [],
   "source": [
    "# 데이터프레임의 변수 간 상관계수 계산\n",
    "correlation_matrix = df_jeju.corr(numeric_only=True)"
   ]
  },
  {
   "cell_type": "code",
   "execution_count": null,
   "metadata": {},
   "outputs": [],
   "source": [
    "# 상관계수 출력\n",
    "print(correlation_matrix)"
   ]
  },
  {
   "cell_type": "code",
   "execution_count": null,
   "metadata": {},
   "outputs": [],
   "source": [
    "# 상관계수를 히트맵으로 시각화\n",
    "sns.heatmap(correlation_matrix, annot=True, cmap='coolwarm')\n",
    "plt.title('Correlation Matrix')\n",
    "plt.show()"
   ]
  },
  {
   "cell_type": "markdown",
   "metadata": {},
   "source": [
    "#### 회귀분석\n",
    "* 종속변수는 useCost\n",
    "* 독립변수는 marketType,\tuserType,\tageGroup,\tgender"
   ]
  },
  {
   "cell_type": "code",
   "execution_count": null,
   "metadata": {},
   "outputs": [],
   "source": [
    "import pandas as pd\n",
    "import statsmodels.api as sm\n",
    "\n",
    "# 범주형 변수 변환\n",
    "\n",
    "categorical_cols = ['marketType', 'userType', 'ageGroup', 'gender']\n",
    "data_encoded = pd.get_dummies(df_jeju[['marketType', 'userType', 'ageGroup', 'gender','useCost']], columns=categorical_cols, drop_first=True)\n",
    "\n",
    "# 독립변수/종속변수 설정\n",
    "y = data_encoded['useCost']\n",
    "X = data_encoded.drop('useCost', axis=1)\n",
    "\n",
    "# 상수항 추가\n",
    "X = sm.add_constant(X)\n",
    "\n",
    "# Float로 형변환\n",
    "X = X.astype(float)\n",
    "\n",
    "# 회귀식 도출\n",
    "model = sm.OLS(y, X).fit()\n",
    "\n",
    "# 결과 출력\n",
    "print(model.summary())"
   ]
  },
  {
   "cell_type": "code",
   "execution_count": null,
   "metadata": {},
   "outputs": [],
   "source": [
    "X.dtypes"
   ]
  },
  {
   "cell_type": "code",
   "execution_count": null,
   "metadata": {},
   "outputs": [],
   "source": [
    "# Extract the regression results\n",
    "results = pd.DataFrame({'coef': model.params, 'std_err': model.bse, 't_value': model.tvalues, 'p_value': model.pvalues})\n",
    "\n",
    "# Print the results DataFrame\n",
    "print(results)"
   ]
  },
  {
   "cell_type": "code",
   "execution_count": null,
   "metadata": {},
   "outputs": [],
   "source": []
  }
 ],
 "metadata": {
  "kernelspec": {
   "display_name": "Python 3 (ipykernel)",
   "language": "python",
   "name": "python3"
  },
  "language_info": {
   "codemirror_mode": {
    "name": "ipython",
    "version": 3
   },
   "file_extension": ".py",
   "mimetype": "text/x-python",
   "name": "python",
   "nbconvert_exporter": "python",
   "pygments_lexer": "ipython3",
   "version": "3.11.7"
  }
 },
 "nbformat": 4,
 "nbformat_minor": 4
}

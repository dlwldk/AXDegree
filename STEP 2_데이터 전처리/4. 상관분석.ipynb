{
 "cells": [
  {
   "cell_type": "markdown",
   "metadata": {},
   "source": [
    "# 데이터 분석 실무\n",
    "## 파이썬 라이브러리를 활용해서 통계 기법을 적용한 데이터 분석을 배우는 과정입니다."
   ]
  },
  {
   "cell_type": "markdown",
   "metadata": {},
   "source": [
    "#### 상관분석1 : 마케팅 데이터 분석(Pandas 활용)"
   ]
  },
  {
   "cell_type": "markdown",
   "metadata": {},
   "source": [
    "* 지금부터 간단한 예시코드를 중심으로 데이터 분석 실습을 진행하겠습니다."
   ]
  },
  {
   "cell_type": "markdown",
   "metadata": {},
   "source": [
    "* 마케팅 데이터에서 변수간 상관분석을 위한 가상 데이터셋을 만들어보겠습니다.\n",
    "* A 제조기업에서는 서비스별 마케팅 관련 데이터를 수집하고 있습니다. 여러 변수를 수집하고 있는데요. 각 변수간 상관관계가 궁금합니다.\n",
    "\n",
    "    * Advertising: 광고 노출\n",
    "    * Sales: 판매량\n",
    "    * Website_Traffic: 웹사이트 내 서비스 페이지 트래픽\n",
    "    * Social_Media: 소셜미디어 업로드 수\n",
    "    * Email_Campaign: 이메일 캠페인 횟수"
   ]
  },
  {
   "cell_type": "markdown",
   "metadata": {},
   "source": [
    "##### 0. 필요 라이브러리 불러오기"
   ]
  },
  {
   "cell_type": "markdown",
   "metadata": {},
   "source": [
    "__사내 PC 실습 안내__ \n",
    "- 본 실습은 외부 라이브러리를 설치하는 내용이 포함되어 있습니다.\n",
    "- 사내 PC에서 외부 라이브러리 설치 시, SSL 인증 오류가 발생할 수 있습니다.\n",
    "- 아래 코드와 같이, pypi 서버 신뢰 옵션을 추가하여 SSL 인증을 생략합니다.\n",
    "- 따라서, 내용은 영상 강의와 다를 수 있습니다.\n",
    "\n",
    "```cmd\n",
    "pip install --trusted-host pypi.python.org --trusted-host files.pythonhosted.org --trusted-host pypi.org -U [설치할 패키지 명]\n",
    "```\n"
   ]
  },
  {
   "cell_type": "code",
   "execution_count": null,
   "metadata": {},
   "outputs": [],
   "source": [
    "!pip install --trusted-host pypi.python.org --trusted-host files.pythonhosted.org --trusted-host pypi.org -U matplotlib seaborn"
   ]
  },
  {
   "cell_type": "code",
   "execution_count": null,
   "metadata": {},
   "outputs": [],
   "source": [
    "import pandas as pd\n",
    "import numpy as np\n",
    "import matplotlib.pyplot as plt\n",
    "import seaborn as sns"
   ]
  },
  {
   "cell_type": "markdown",
   "metadata": {},
   "source": [
    "##### 1. 데이터 생성"
   ]
  },
  {
   "cell_type": "code",
   "execution_count": null,
   "metadata": {},
   "outputs": [],
   "source": [
    "# 마케팅 데이터를 포함한 데이터프레임 생성\n",
    "np.random.seed(0)\n",
    "\n",
    "# Advertising 데이터 생성\n",
    "advertising = np.random.randint(1000, 2000, 100)\n",
    "# Sales 데이터 생성\n",
    "sales = np.random.randint(100, 500, 100)\n",
    "# Website_Traffic 데이터 생성\n",
    "website_traffic = np.random.randint(5000, 10000, 100)\n",
    "# Social_Media 데이터 생성\n",
    "social_media = np.random.randint(100, 1000, 100)\n",
    "# Email_Campaign 데이터 생성\n",
    "email_campaign = np.random.randint(0, 5, 100)\n",
    "\n",
    "# 데이터프레임 생성\n",
    "data = pd.DataFrame({\n",
    "    'Advertising': advertising,\n",
    "    'Sales': sales,\n",
    "    'Website_Traffic': website_traffic,\n",
    "    'Social_Media': social_media,\n",
    "    'Email_Campaign': email_campaign\n",
    "})"
   ]
  },
  {
   "cell_type": "markdown",
   "metadata": {},
   "source": [
    "##### 2. 상관계수 계산"
   ]
  },
  {
   "cell_type": "code",
   "execution_count": null,
   "metadata": {},
   "outputs": [],
   "source": [
    "# 데이터프레임의 변수 간 상관계수 계산\n",
    "correlation_matrix = data.corr()"
   ]
  },
  {
   "cell_type": "code",
   "execution_count": null,
   "metadata": {},
   "outputs": [],
   "source": [
    "# 상관계수 출력\n",
    "print(correlation_matrix)"
   ]
  },
  {
   "cell_type": "markdown",
   "metadata": {},
   "source": [
    "##### 3. 시각화"
   ]
  },
  {
   "cell_type": "code",
   "execution_count": null,
   "metadata": {},
   "outputs": [],
   "source": [
    "# 상관계수를 히트맵으로 시각화\n",
    "sns.heatmap(correlation_matrix, annot=True, cmap='coolwarm')\n",
    "plt.title('Correlation Matrix')\n",
    "plt.show()"
   ]
  },
  {
   "cell_type": "markdown",
   "metadata": {},
   "source": [
    "#### 상관분석2 : 마케팅 데이터 분석(stats 활용)"
   ]
  },
  {
   "cell_type": "markdown",
   "metadata": {},
   "source": [
    "* 지금부터 간단한 예시코드를 중심으로 데이터 분석 실습을 진행하겠습니다."
   ]
  },
  {
   "cell_type": "markdown",
   "metadata": {},
   "source": [
    "* 마케팅 데이터에서 변수간 상관분석을 위한 가상 데이터셋을 만들어보겠습니다.\n",
    "* A 제조기업에서는 서비스별 마케팅 관련 데이터를 수집하고 있습니다. 여러 변수를 수집하고 있는데요. 각 변수간 상관관계가 궁금합니다.\n",
    "\n",
    "    * Advertising: 광고 노출\n",
    "    * Sales: 판매량\n",
    "    * Website_Traffic: 웹사이트 내 서비스 페이지 트래픽\n",
    "    * Social_Media: 소셜미디어 업로드 수\n",
    "    * Email_Campaign: 이메일 캠페인 횟수"
   ]
  },
  {
   "cell_type": "markdown",
   "metadata": {},
   "source": [
    "##### 0. 필요 라이브러리 불러오기"
   ]
  },
  {
   "cell_type": "code",
   "execution_count": null,
   "metadata": {},
   "outputs": [],
   "source": [
    "import pandas as pd\n",
    "import numpy as np\n",
    "import matplotlib.pyplot as plt\n",
    "import seaborn as sns\n",
    "import scipy.stats as stats"
   ]
  },
  {
   "cell_type": "markdown",
   "metadata": {},
   "source": [
    "##### 1. 데이터 생성"
   ]
  },
  {
   "cell_type": "code",
   "execution_count": null,
   "metadata": {},
   "outputs": [],
   "source": [
    "# 마케팅 데이터를 포함한 데이터프레임 생성\n",
    "np.random.seed(0)\n",
    "\n",
    "# Advertising 데이터 생성\n",
    "advertising = np.random.randint(1000, 2000, 100)\n",
    "# Sales 데이터 생성\n",
    "sales = np.random.randint(100, 500, 100)\n",
    "# Website_Traffic 데이터 생성\n",
    "website_traffic = np.random.randint(5000, 10000, 100)\n",
    "# Social_Media 데이터 생성\n",
    "social_media = np.random.randint(100, 1000, 100)\n",
    "# Email_Campaign 데이터 생성\n",
    "email_campaign = np.random.randint(0, 5, 100)\n",
    "\n",
    "# 데이터프레임 생성\n",
    "data = pd.DataFrame({\n",
    "    'Advertising': advertising,\n",
    "    'Sales': sales,\n",
    "    'Website_Traffic': website_traffic,\n",
    "    'Social_Media': social_media,\n",
    "    'Email_Campaign': email_campaign\n",
    "})"
   ]
  },
  {
   "cell_type": "markdown",
   "metadata": {},
   "source": [
    "##### 2. 상관계수&p-value 계산"
   ]
  },
  {
   "cell_type": "code",
   "execution_count": null,
   "metadata": {},
   "outputs": [],
   "source": [
    "# 변수 간 상관계수와 p-value 계산\n",
    "correlation_matrix = np.zeros((len(data.columns), len(data.columns)))\n",
    "p_values = np.zeros((len(data.columns), len(data.columns)))\n",
    "\n",
    "for i, column1 in enumerate(data.columns):\n",
    "    for j, column2 in enumerate(data.columns):\n",
    "        correlation, p_value = stats.pearsonr(data[column1], data[column2])\n",
    "        correlation_matrix[i, j] = correlation\n",
    "        p_values[i, j] = p_value\n"
   ]
  },
  {
   "cell_type": "code",
   "execution_count": null,
   "metadata": {},
   "outputs": [],
   "source": [
    "# 상관계수와 p-value 출력\n",
    "correlation_df = pd.DataFrame(correlation_matrix, columns=data.columns, index=data.columns)\n",
    "p_value_df = pd.DataFrame(p_values, columns=data.columns, index=data.columns)\n",
    "\n",
    "print(\"Correlation Matrix:\")\n",
    "print(correlation_df)\n",
    "\n",
    "print(\"\\np-values:\")\n",
    "print(p_value_df)"
   ]
  },
  {
   "cell_type": "markdown",
   "metadata": {},
   "source": [
    "##### 3. 시각화"
   ]
  },
  {
   "cell_type": "code",
   "execution_count": null,
   "metadata": {},
   "outputs": [],
   "source": [
    "# 상관계수를 히트맵으로 시각화\n",
    "sns.heatmap(correlation_df, annot=True, cmap='coolwarm')\n",
    "plt.title('Correlation Matrix')\n",
    "plt.show()"
   ]
  },
  {
   "cell_type": "code",
   "execution_count": null,
   "metadata": {},
   "outputs": [],
   "source": [
    "# p-value를 히트맵으로 시각화\n",
    "sns.heatmap(p_value_df, annot=True, cmap='coolwarm')\n",
    "plt.title('p-value Matrix')\n",
    "plt.show()"
   ]
  }
 ],
 "metadata": {
  "kernelspec": {
   "display_name": "Python 3 (ipykernel)",
   "language": "python",
   "name": "python3"
  },
  "language_info": {
   "codemirror_mode": {
    "name": "ipython",
    "version": 3
   },
   "file_extension": ".py",
   "mimetype": "text/x-python",
   "name": "python",
   "nbconvert_exporter": "python",
   "pygments_lexer": "ipython3",
   "version": "3.11.7"
  }
 },
 "nbformat": 4,
 "nbformat_minor": 4
}

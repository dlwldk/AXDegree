{
 "cells": [
  {
   "cell_type": "markdown",
   "metadata": {},
   "source": [
    "# 데이터 분석 실무\n",
    "## 파이썬 라이브러리를 활용해서 통계 기법을 적용한 데이터 분석을 배우는 과정입니다."
   ]
  },
  {
   "cell_type": "markdown",
   "metadata": {},
   "source": [
    "#### 회귀분석1 : 마케팅 데이터 분석(단순회귀분석)"
   ]
  },
  {
   "cell_type": "markdown",
   "metadata": {},
   "source": [
    "* 지금부터 간단한 예시코드를 중심으로 데이터 분석 실습을 진행하겠습니다."
   ]
  },
  {
   "cell_type": "markdown",
   "metadata": {},
   "source": [
    "* 마케팅 데이터에서 변수간 상관분석을 위한 가상 데이터셋을 만들어보겠습니다.\n",
    "* A 제조기업에서는 서비스별 마케팅 관련 데이터를 수집하고 있습니다. 여러 변수를 수집하고 있는데요. 그 중 광고가 판매량에 미치는 영향에 대해 궁금합니다.\n",
    "\n",
    "    * Advertising: 광고 노출\n",
    "    * Sales: 판매량"
   ]
  },
  {
   "cell_type": "markdown",
   "metadata": {},
   "source": [
    "##### 0. 필요 라이브러리 불러오기"
   ]
  },
  {
   "cell_type": "code",
   "execution_count": null,
   "metadata": {},
   "outputs": [],
   "source": [
    "import pandas as pd\n",
    "import numpy as np\n",
    "import statsmodels.api as sm"
   ]
  },
  {
   "cell_type": "markdown",
   "metadata": {},
   "source": [
    "##### 1. 데이터 생성"
   ]
  },
  {
   "cell_type": "code",
   "execution_count": null,
   "metadata": {},
   "outputs": [],
   "source": [
    "# 마케팅 데이터를 포함한 데이터프레임 생성\n",
    "np.random.seed(0)\n",
    "\n",
    "# Advertising 데이터 생성\n",
    "advertising = np.random.normal(50, 10, 100)\n",
    "# 종속 변수 (영향을 받는 변수)\n",
    "sales = 50 + 0.3 * advertising + 0.7 + np.random.normal(0, 10, 100)\n",
    "\n",
    "# 데이터프레임 생성\n",
    "data = pd.DataFrame({\n",
    "    'Advertising': advertising,\n",
    "    'Sales': sales,\n",
    "})"
   ]
  },
  {
   "cell_type": "markdown",
   "metadata": {},
   "source": [
    "##### 2. 독립변수/종속변수 설정"
   ]
  },
  {
   "cell_type": "code",
   "execution_count": null,
   "metadata": {},
   "outputs": [],
   "source": [
    "# 독립 변수와 종속 변수 설정\n",
    "X = data['Advertising']  # 광고 예산\n",
    "y = data['Sales']  # 판매량"
   ]
  },
  {
   "cell_type": "markdown",
   "metadata": {},
   "source": [
    "##### 3. 상수항 추가\n",
    "* 상수항은 회귀분석 모델에서 상수항 또는 절편(intercept)을 의미합니다. 이는 독립 변수가 0일 때 종속 변수의 값을 나타내는데, 회귀분석 모델은 일반적으로 독립 변수의 값을 통해 종속 변수의 값을 예측하고 설명하는 것이 목적입니다.\n",
    "* 즉 모델의 기준이 되어주는 변수를 추가해주는거라고 이해하시면 좀 더 쉽습니다.\n",
    "* 일반적으로 회귀분석 모델에는 상수항을 추가하여 독립 변수와 종속 변수 간의 관계를 더 정확하게 모델링하는 것이 일반적입니다."
   ]
  },
  {
   "cell_type": "code",
   "execution_count": null,
   "metadata": {},
   "outputs": [],
   "source": [
    "# 상수항 추가\n",
    "X = sm.add_constant(X)"
   ]
  },
  {
   "cell_type": "markdown",
   "metadata": {},
   "source": [
    "##### 4. 회귀식 산출"
   ]
  },
  {
   "cell_type": "code",
   "execution_count": null,
   "metadata": {},
   "outputs": [],
   "source": [
    "# 단순 선형 회귀 모델 적합\n",
    "model = sm.OLS(y, X)\n",
    "results = model.fit()"
   ]
  },
  {
   "cell_type": "markdown",
   "metadata": {},
   "source": [
    "##### 5. 모델 결과 출력"
   ]
  },
  {
   "cell_type": "code",
   "execution_count": null,
   "metadata": {},
   "outputs": [],
   "source": [
    "# 결과 출력\n",
    "print(results.summary())"
   ]
  },
  {
   "cell_type": "markdown",
   "metadata": {},
   "source": [
    "#### 회귀분석2 : 마케팅 데이터 분석(다중회귀분석)"
   ]
  },
  {
   "cell_type": "markdown",
   "metadata": {},
   "source": [
    "* 지금부터 간단한 예시코드를 중심으로 데이터 분석 실습을 진행하겠습니다."
   ]
  },
  {
   "cell_type": "markdown",
   "metadata": {},
   "source": [
    "* 마케팅 데이터에서 변수간 상관분석을 위한 가상 데이터셋을 만들어보겠습니다.\n",
    "* A 제조기업에서는 서비스별 마케팅 관련 데이터를 수집하고 있습니다. 여러 변수를 수집하고 있는데요. 광고와 웹 트래픽, 소셜미디어 업로드 수가 판매량에 미치는 영향이 궁금합니다.\n",
    "\n",
    "    * Advertising: 광고 노출\n",
    "    * Sales: 판매량\n",
    "    * Website_Traffic: 웹사이트 내 서비스 페이지 트래픽\n",
    "    * Social_Media: 소셜미디어 업로드 수"
   ]
  },
  {
   "cell_type": "markdown",
   "metadata": {},
   "source": [
    "##### 0. 필요 라이브러리 불러오기"
   ]
  },
  {
   "cell_type": "code",
   "execution_count": null,
   "metadata": {},
   "outputs": [],
   "source": [
    "import numpy as np\n",
    "import pandas as pd\n",
    "import statsmodels.api as sm"
   ]
  },
  {
   "cell_type": "markdown",
   "metadata": {},
   "source": [
    "##### 1. 데이터 생성"
   ]
  },
  {
   "cell_type": "code",
   "execution_count": null,
   "metadata": {},
   "outputs": [],
   "source": [
    "# 마케팅 데이터를 포함한 데이터프레임 생성\n",
    "np.random.seed(0)\n",
    "\n",
    "# Advertising 데이터 생성\n",
    "advertising = np.random.normal(50, 10, 100)\n",
    "# Website_Traffic 데이터 생성\n",
    "website_traffic = np.random.normal(1000, 200, 100)\n",
    "# Social_Media 데이터 생성\n",
    "social_media = np.random.normal(500, 100, 100)\n",
    "# 종속 변수 (영향을 받는 변수)\n",
    "sales = 50 + 0.3 * advertising + 0.7 * website_traffic + 0.2 * social_media + np.random.normal(0, 10, 100)\n",
    "\n",
    "# 데이터프레임 생성\n",
    "data = pd.DataFrame({\n",
    "    'Advertising': advertising,\n",
    "    'Sales': sales,\n",
    "    'Website_Traffic': website_traffic,\n",
    "    'Social_Media': social_media,\n",
    "})"
   ]
  },
  {
   "cell_type": "markdown",
   "metadata": {},
   "source": [
    "##### 2. 독립변수/종속변수 설정"
   ]
  },
  {
   "cell_type": "code",
   "execution_count": null,
   "metadata": {},
   "outputs": [],
   "source": [
    "# 독립 변수와 종속 변수 분리\n",
    "X = data[['Advertising', 'Website_Traffic', 'Social_Media']]\n",
    "y = data['Sales']"
   ]
  },
  {
   "cell_type": "markdown",
   "metadata": {},
   "source": [
    "##### 3. 상수항 추가\n",
    "* 상수항은 회귀분석 모델에서 상수항 또는 절편(intercept)을 의미합니다. 이는 독립 변수가 0일 때 종속 변수의 값을 나타내는데, 회귀분석 모델은 일반적으로 독립 변수의 값을 통해 종속 변수의 값을 예측하고 설명하는 것이 목적입니다.\n",
    "* 즉 모델의 기준이 되어주는 변수를 추가해주는거라고 이해하시면 좀 더 쉽습니다.\n",
    "* 일반적으로 회귀분석 모델에는 상수항을 추가하여 독립 변수와 종속 변수 간의 관계를 더 정확하게 모델링하는 것이 일반적입니다."
   ]
  },
  {
   "cell_type": "code",
   "execution_count": null,
   "metadata": {},
   "outputs": [],
   "source": [
    "# 상수항 추가\n",
    "X = sm.add_constant(X)"
   ]
  },
  {
   "cell_type": "markdown",
   "metadata": {},
   "source": [
    "##### 4. 회귀식 산출"
   ]
  },
  {
   "cell_type": "code",
   "execution_count": null,
   "metadata": {},
   "outputs": [],
   "source": [
    "# 다중 회귀분석 모델 학습\n",
    "model = sm.OLS(y, X)\n",
    "results = model.fit()"
   ]
  },
  {
   "cell_type": "markdown",
   "metadata": {},
   "source": [
    "##### 5. 모델 결과 출력"
   ]
  },
  {
   "cell_type": "code",
   "execution_count": null,
   "metadata": {},
   "outputs": [],
   "source": [
    "# 회귀분석 결과 출력\n",
    "print(results.summary())"
   ]
  },
  {
   "cell_type": "markdown",
   "metadata": {},
   "source": [
    "##### 6. 다중공선성 확인"
   ]
  },
  {
   "cell_type": "code",
   "execution_count": null,
   "metadata": {},
   "outputs": [],
   "source": [
    "from statsmodels.stats.outliers_influence import variance_inflation_factor\n",
    "\n",
    "# VIF 계산\n",
    "vif = pd.DataFrame()\n",
    "vif[\"Feature\"] = X.columns\n",
    "vif[\"VIF\"] = [variance_inflation_factor(X.values, i) for i in range(X.shape[1])]\n",
    "\n",
    "# VIF 결과 출력\n",
    "print(vif)"
   ]
  }
 ],
 "metadata": {
  "kernelspec": {
   "display_name": "Python 3 (ipykernel)",
   "language": "python",
   "name": "python3"
  },
  "language_info": {
   "codemirror_mode": {
    "name": "ipython",
    "version": 3
   },
   "file_extension": ".py",
   "mimetype": "text/x-python",
   "name": "python",
   "nbconvert_exporter": "python",
   "pygments_lexer": "ipython3",
   "version": "3.11.7"
  }
 },
 "nbformat": 4,
 "nbformat_minor": 4
}
